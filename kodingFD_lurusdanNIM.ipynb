{
 "cells": [
  {
   "cell_type": "code",
   "execution_count": 21,
   "id": "22366d48-ef63-4c72-8e31-635c43804510",
   "metadata": {},
   "outputs": [],
   "source": [
    "import cv2\n",
    "import face_recognition"
   ]
  },
  {
   "cell_type": "code",
   "execution_count": 22,
   "id": "e6070899-cbf9-4270-847e-dd798b0a6730",
   "metadata": {},
   "outputs": [],
   "source": [
    "original_image = cv2.imread('niar.jpeg')"
   ]
  },
  {
   "cell_type": "code",
   "execution_count": 23,
   "id": "eeacb62e-2c4b-48e0-a808-b2db9a08b03d",
   "metadata": {},
   "outputs": [],
   "source": [
    "niar_image = face_recognition.load_image_file('niar.jpeg')\n",
    "niar_face_encodings = face_recognition.face_encodings(niar_image)[0]"
   ]
  },
  {
   "cell_type": "code",
   "execution_count": 24,
   "id": "c6c73789-54cb-4208-91f0-557ac79938b6",
   "metadata": {},
   "outputs": [],
   "source": [
    "known_face_encodings = [niar_face_encodings]\n",
    "known_face_names = [\"Niar Risma Aulia - 562020118027\"]"
   ]
  },
  {
   "cell_type": "code",
   "execution_count": 25,
   "id": "93b33f35-1479-4b2b-b76c-02cf9f00283d",
   "metadata": {},
   "outputs": [],
   "source": [
    "image_to_recognize = face_recognition.load_image_file('niar.jpeg')"
   ]
  },
  {
   "cell_type": "code",
   "execution_count": 26,
   "id": "2430e979-bbb9-4a60-a21b-055c498ec65b",
   "metadata": {},
   "outputs": [],
   "source": [
    "all_face_locations = face_recognition.face_locations(image_to_recognize,model='hog')\n",
    "all_face_encodings = face_recognition.face_encodings(image_to_recognize,all_face_locations)"
   ]
  },
  {
   "cell_type": "code",
   "execution_count": 27,
   "id": "f59a91c7-7b65-4b30-8ac9-de9d50a9c20a",
   "metadata": {},
   "outputs": [
    {
     "name": "stdout",
     "output_type": "stream",
     "text": [
      "There are 1 no of faces in this image\n"
     ]
    }
   ],
   "source": [
    "print('There are {} no of faces in this image'.format(len(all_face_locations)))"
   ]
  },
  {
   "cell_type": "code",
   "execution_count": 28,
   "id": "a41ef787-82f8-4f7f-a577-dc92cef96c6f",
   "metadata": {},
   "outputs": [
    {
     "data": {
      "text/plain": [
       "-1"
      ]
     },
     "execution_count": 28,
     "metadata": {},
     "output_type": "execute_result"
    }
   ],
   "source": [
    "for current_face_location,current_face_encoding in zip(all_face_locations,all_face_encodings):\n",
    "    #splitting the tuple to get the four position values of current face\n",
    "    top_pos,right_pos,bottom_pos,left_pos = current_face_location\n",
    "    \n",
    "    \n",
    "    #find all the matches and get the list of matches\n",
    "    all_matches = face_recognition.compare_faces(known_face_encodings, current_face_encoding)\n",
    "   \n",
    "    #string to hold the label\n",
    "    name_of_person = 'Unknown face'\n",
    "    \n",
    "    #check if the all_matches have at least one item\n",
    "    #if yes, get the index number of face that is located in the first index of all_matches\n",
    "    #get the name corresponding to the index number and save it in name_of_person\n",
    "    if True in all_matches:\n",
    "        first_match_index = all_matches.index(True)\n",
    "        name_of_person = known_face_names[first_match_index]\n",
    "    \n",
    "    #draw rectangle around the face    \n",
    "    cv2.rectangle(original_image,(left_pos,top_pos),(right_pos,bottom_pos),(255,0,0),2)\n",
    "    \n",
    "    #display the name as text in the image\n",
    "    font = cv2.FONT_HERSHEY_DUPLEX\n",
    "    cv2.putText(original_image, name_of_person, (left_pos,bottom_pos), font, 0.5, (255,255,255),1)\n",
    "    \n",
    "    #display the image\n",
    "    cv2.imshow(\"Faces Identified\",original_image)\n",
    "cv2.waitKey(0); cv2.destroyAllWindows(); cv2.waitKey(1)"
   ]
  },
  {
   "cell_type": "code",
   "execution_count": null,
   "id": "adf6eb70-e641-4f25-8456-0e96122ab3ee",
   "metadata": {},
   "outputs": [],
   "source": []
  }
 ],
 "metadata": {
  "kernelspec": {
   "display_name": "Python 3 (ipykernel)",
   "language": "python",
   "name": "python3"
  },
  "language_info": {
   "codemirror_mode": {
    "name": "ipython",
    "version": 3
   },
   "file_extension": ".py",
   "mimetype": "text/x-python",
   "name": "python",
   "nbconvert_exporter": "python",
   "pygments_lexer": "ipython3",
   "version": "3.10.4"
  }
 },
 "nbformat": 4,
 "nbformat_minor": 5
}
