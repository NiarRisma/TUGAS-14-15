{
 "cells": [
  {
   "cell_type": "code",
   "execution_count": 18,
   "id": "8bd6dad6-db42-4bf7-8e0e-6471fd710bce",
   "metadata": {},
   "outputs": [],
   "source": [
    "import cv2\n",
    "import face_recognition"
   ]
  },
  {
   "cell_type": "code",
   "execution_count": 19,
   "id": "541de9e0-9247-4b0e-9721-5e1340aca2cc",
   "metadata": {},
   "outputs": [],
   "source": [
    "file_video_stream = cv2.VideoCapture('videotest.mp4')"
   ]
  },
  {
   "cell_type": "code",
   "execution_count": 20,
   "id": "053e4e2e-0695-43cc-bbc8-369cb9d263c0",
   "metadata": {},
   "outputs": [],
   "source": [
    "jeno_image = face_recognition.load_image_file('jeno2.jpg')\n",
    "jeno_face_encodings = face_recognition.face_encodings(jeno_image)[0]"
   ]
  },
  {
   "cell_type": "code",
   "execution_count": 21,
   "id": "0578bca1-7ec7-4ea3-8380-79f1f4722af4",
   "metadata": {},
   "outputs": [],
   "source": [
    "mark_image = face_recognition.load_image_file('markdata1.jpg')\n",
    "mark_face_encodings = face_recognition.face_encodings(mark_image)[0]"
   ]
  },
  {
   "cell_type": "code",
   "execution_count": 22,
   "id": "153dbf68-dfc5-4e9c-8adf-7edd5abbd2e4",
   "metadata": {},
   "outputs": [],
   "source": [
    "known_face_encodings = [jeno_face_encodings, mark_face_encodings]\n",
    "known_face_names = [\"Jeno - Artist\", \"Mark - Artist\"]"
   ]
  },
  {
   "cell_type": "code",
   "execution_count": 23,
   "id": "bf070b31-e0ae-4bbf-b5e0-9ad33f3f32f7",
   "metadata": {},
   "outputs": [],
   "source": [
    "all_face_locations = []\n",
    "all_face_encodings = []\n",
    "all_face_names = []"
   ]
  },
  {
   "cell_type": "code",
   "execution_count": 24,
   "id": "7cc5bd7c-337a-4d0b-9e85-e4b1c26dd580",
   "metadata": {},
   "outputs": [
    {
     "ename": "error",
     "evalue": "OpenCV(4.6.0) D:\\a\\opencv-python\\opencv-python\\opencv\\modules\\imgproc\\src\\resize.cpp:4052: error: (-215:Assertion failed) !ssize.empty() in function 'cv::resize'\n",
     "output_type": "error",
     "traceback": [
      "\u001b[1;31m---------------------------------------------------------------------------\u001b[0m",
      "\u001b[1;31merror\u001b[0m                                     Traceback (most recent call last)",
      "\u001b[1;32m~\\AppData\\Local\\Temp\\ipykernel_6164\\234086529.py\u001b[0m in \u001b[0;36m<cell line: 1>\u001b[1;34m()\u001b[0m\n\u001b[0;32m      2\u001b[0m \u001b[1;33m\u001b[0m\u001b[0m\n\u001b[0;32m      3\u001b[0m     \u001b[0mret\u001b[0m\u001b[1;33m,\u001b[0m\u001b[0mcurrent_frame\u001b[0m \u001b[1;33m=\u001b[0m \u001b[0mfile_video_stream\u001b[0m\u001b[1;33m.\u001b[0m\u001b[0mread\u001b[0m\u001b[1;33m(\u001b[0m\u001b[1;33m)\u001b[0m\u001b[1;33m\u001b[0m\u001b[1;33m\u001b[0m\u001b[0m\n\u001b[1;32m----> 4\u001b[1;33m     \u001b[0mcurrent_frame_small\u001b[0m \u001b[1;33m=\u001b[0m \u001b[0mcv2\u001b[0m\u001b[1;33m.\u001b[0m\u001b[0mresize\u001b[0m\u001b[1;33m(\u001b[0m\u001b[0mcurrent_frame\u001b[0m\u001b[1;33m,\u001b[0m\u001b[1;33m(\u001b[0m\u001b[1;36m0\u001b[0m\u001b[1;33m,\u001b[0m\u001b[1;36m0\u001b[0m\u001b[1;33m)\u001b[0m\u001b[1;33m,\u001b[0m\u001b[0mfx\u001b[0m\u001b[1;33m=\u001b[0m\u001b[1;36m0.25\u001b[0m\u001b[1;33m,\u001b[0m\u001b[0mfy\u001b[0m\u001b[1;33m=\u001b[0m\u001b[1;36m0.25\u001b[0m\u001b[1;33m)\u001b[0m\u001b[1;33m\u001b[0m\u001b[1;33m\u001b[0m\u001b[0m\n\u001b[0m\u001b[0;32m      5\u001b[0m     \u001b[0mall_face_locations\u001b[0m \u001b[1;33m=\u001b[0m \u001b[0mface_recognition\u001b[0m\u001b[1;33m.\u001b[0m\u001b[0mface_locations\u001b[0m\u001b[1;33m(\u001b[0m\u001b[0mcurrent_frame_small\u001b[0m\u001b[1;33m,\u001b[0m\u001b[0mnumber_of_times_to_upsample\u001b[0m\u001b[1;33m=\u001b[0m\u001b[1;36m1\u001b[0m\u001b[1;33m,\u001b[0m\u001b[0mmodel\u001b[0m\u001b[1;33m=\u001b[0m\u001b[1;34m'hog'\u001b[0m\u001b[1;33m)\u001b[0m\u001b[1;33m\u001b[0m\u001b[1;33m\u001b[0m\u001b[0m\n\u001b[0;32m      6\u001b[0m \u001b[1;33m\u001b[0m\u001b[0m\n",
      "\u001b[1;31merror\u001b[0m: OpenCV(4.6.0) D:\\a\\opencv-python\\opencv-python\\opencv\\modules\\imgproc\\src\\resize.cpp:4052: error: (-215:Assertion failed) !ssize.empty() in function 'cv::resize'\n"
     ]
    }
   ],
   "source": [
    "while (file_video_stream.isOpened):\n",
    "    \n",
    "    ret,current_frame = file_video_stream.read()\n",
    "    current_frame_small = cv2.resize(current_frame,(0,0),fx=0.25,fy=0.25)\n",
    "    all_face_locations = face_recognition.face_locations(current_frame_small,number_of_times_to_upsample=1,model='hog')\n",
    "\n",
    "    all_face_encodings = face_recognition.face_encodings(current_frame_small,all_face_locations)"
   ]
  },
  {
   "cell_type": "code",
   "execution_count": null,
   "id": "4588256b-25f7-4876-a1e5-4e21cf18ccad",
   "metadata": {},
   "outputs": [],
   "source": [
    "for current_face_location,current_face_encoding in zip(all_face_locations,all_face_encodings):\n",
    "        top_pos,right_pos,bottom_pos,left_pos = current_face_location\n",
    "        \n",
    "        top_pos = top_pos*4\n",
    "        right_pos = right_pos*4\n",
    "        bottom_pos = bottom_pos*4\n",
    "        left_pos = left_pos*4\n",
    "        \n",
    "        all_matches = face_recognition.compare_faces(known_face_encodings, current_face_encoding)\n",
    "       \n",
    "        name_of_person = 'Unknown face'\n",
    "        \n",
    "\n",
    "        if True in all_matches:\n",
    "            first_match_index = all_matches.index(True)\n",
    "            name_of_person = known_face_names[first_match_index]\n",
    "        \n",
    "        cv2.rectangle(current_frame,(left_pos,top_pos),(right_pos,bottom_pos),(255,0,0),2)\n",
    "        \n",
    "        font = cv2.FONT_HERSHEY_DUPLEX\n",
    "        cv2.putText(current_frame, name_of_person, (left_pos,bottom_pos), font, 0.5, (255,255,255),1)"
   ]
  },
  {
   "cell_type": "code",
   "execution_count": null,
   "id": "1bcd2725-132d-48b0-8ab8-fa4aa143ad4b",
   "metadata": {},
   "outputs": [],
   "source": [
    " cv2.imshow(\"Video Test\",current_frame)\n",
    "    \n",
    "    if cv2.waitKey(1) & 0xFF == ord('q'):\n",
    "        break\n",
    "\n",
    "file_video_stream.release()\n",
    "cv2.destroyAllWindows()       "
   ]
  },
  {
   "cell_type": "code",
   "execution_count": null,
   "id": "f875a9fa-1acc-475c-83a5-b6d25d6a1424",
   "metadata": {},
   "outputs": [],
   "source": []
  }
 ],
 "metadata": {
  "kernelspec": {
   "display_name": "Python 3 (ipykernel)",
   "language": "python",
   "name": "python3"
  },
  "language_info": {
   "codemirror_mode": {
    "name": "ipython",
    "version": 3
   },
   "file_extension": ".py",
   "mimetype": "text/x-python",
   "name": "python",
   "nbconvert_exporter": "python",
   "pygments_lexer": "ipython3",
   "version": "3.10.4"
  }
 },
 "nbformat": 4,
 "nbformat_minor": 5
}
