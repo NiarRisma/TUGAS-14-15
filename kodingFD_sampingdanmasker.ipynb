{
 "cells": [
  {
   "cell_type": "code",
   "execution_count": 1,
   "id": "a29222de-91c3-44a0-b854-9020f0b24635",
   "metadata": {},
   "outputs": [],
   "source": [
    "import PIL.Image\n",
    "import PIL.ImageDraw\n",
    "import face_recognition"
   ]
  },
  {
   "cell_type": "code",
   "execution_count": 3,
   "id": "4efb5842-7566-48e2-90c2-c1c7d6449080",
   "metadata": {},
   "outputs": [],
   "source": [
    "given_image = face_recognition.load_image_file('niarsamping.jpeg')\n",
    "given_image2 = face_recognition.load_image_file('niarmasker.jpeg')"
   ]
  },
  {
   "cell_type": "code",
   "execution_count": 5,
   "id": "c7614f29-d3e5-48d7-9d4b-c253302bb02d",
   "metadata": {},
   "outputs": [
    {
     "name": "stdout",
     "output_type": "stream",
     "text": [
      "We found 1 face(s) in this image.\n",
      "We found 1 face(s) in this image.\n"
     ]
    }
   ],
   "source": [
    "face_locations = face_recognition.face_locations(given_image)\n",
    "face_locations2 = face_recognition.face_locations(given_image2)\n",
    "\n",
    "number_of_faces = len(face_locations)\n",
    "number_of_faces2 = len(face_locations2)\n",
    "print(\"We found {} face(s) in this image.\".format(number_of_faces))\n",
    "print(\"We found {} face(s) in this image.\".format(number_of_faces2))"
   ]
  },
  {
   "cell_type": "code",
   "execution_count": 6,
   "id": "8b6018cd-6580-47fd-a7db-d887a203d569",
   "metadata": {},
   "outputs": [],
   "source": [
    "pil_image = PIL.Image.fromarray(given_image)\n",
    "pil_image2 = PIL.Image.fromarray(given_image2)"
   ]
  },
  {
   "cell_type": "code",
   "execution_count": 7,
   "id": "45e2577a-a65e-4dff-aa57-b7e1fb8e9314",
   "metadata": {},
   "outputs": [
    {
     "name": "stdout",
     "output_type": "stream",
     "text": [
      "A face is detected at pixel location Top: 736, Left: 498, Bottom: 1003, Right: 230\n"
     ]
    }
   ],
   "source": [
    "for face_location in face_locations:\n",
    "    top, left, bottom, right = face_location\n",
    "    print(\"A face is detected at pixel location Top: {}, Left: {}, Bottom: {}, Right: {}\".format(top, left, bottom, right))\n",
    "    draw = PIL.ImageDraw.Draw(pil_image)\n",
    "    draw.rectangle([left, top, right, bottom], outline=\"green\", width=10)"
   ]
  },
  {
   "cell_type": "code",
   "execution_count": 8,
   "id": "89907b44-e073-4e25-b4e0-c837a4a39d60",
   "metadata": {},
   "outputs": [
    {
     "name": "stdout",
     "output_type": "stream",
     "text": [
      "A face is detected at pixel location Top: 348, Left: 553, Bottom: 811, Right: 91\n"
     ]
    }
   ],
   "source": [
    "for face_location2 in face_locations2:\n",
    "    top, left, bottom, right = face_location2\n",
    "    print(\"A face is detected at pixel location Top: {}, Left: {}, Bottom: {}, Right: {}\".format(top, left, bottom, right))\n",
    "    draw = PIL.ImageDraw.Draw(pil_image)\n",
    "    draw.rectangle([left, top, right, bottom], outline=\"green\", width=10)"
   ]
  },
  {
   "cell_type": "code",
   "execution_count": 9,
   "id": "4c579aba-fad4-4ea8-8ec1-f6fe37cca517",
   "metadata": {},
   "outputs": [],
   "source": [
    "pil_image.show()\n",
    "pil_image2.show()"
   ]
  },
  {
   "cell_type": "code",
   "execution_count": null,
   "id": "4d08ecd6-3950-407b-aebd-bd745dadf188",
   "metadata": {},
   "outputs": [],
   "source": []
  }
 ],
 "metadata": {
  "kernelspec": {
   "display_name": "Python 3 (ipykernel)",
   "language": "python",
   "name": "python3"
  },
  "language_info": {
   "codemirror_mode": {
    "name": "ipython",
    "version": 3
   },
   "file_extension": ".py",
   "mimetype": "text/x-python",
   "name": "python",
   "nbconvert_exporter": "python",
   "pygments_lexer": "ipython3",
   "version": "3.10.4"
  }
 },
 "nbformat": 4,
 "nbformat_minor": 5
}
